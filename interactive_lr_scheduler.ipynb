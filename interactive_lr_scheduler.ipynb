{
 "cells": [
  {
   "cell_type": "code",
   "execution_count": 22,
   "metadata": {},
   "outputs": [],
   "source": [
    "\"\"\"Interact with various pytorch learning-rate schedulers.\n",
    "\n",
    "This notebook let's you graph the behavior of several different\n",
    "learning-rate (LR) schedulers, which may help you choose which\n",
    "LR decay policy you want to use in your training.\n",
    "\n",
    "The notebook also introduces a Shifted LR policy, which delays\n",
    "the application of the \"real\" policy, by 'shift' epochs.\n",
    "\"\"\"\n",
    "\n",
    "from ipywidgets import widgets, interact\n",
    "import matplotlib.pyplot as plt\n",
    "import torch\n",
    "import torch.optim.lr_scheduler as lr_scheduler"
   ]
  },
  {
   "cell_type": "code",
   "execution_count": 23,
   "metadata": {},
   "outputs": [],
   "source": [
    "# This example uses Alexnet\n",
    "import torchvision\n",
    "model = torchvision.models.alexnet(pretrained=True).cuda()"
   ]
  },
  {
   "cell_type": "code",
   "execution_count": 108,
   "metadata": {},
   "outputs": [],
   "source": [
    "class ShiftedLR(lr_scheduler._LRScheduler):\n",
    "\"\"\"This LR decay scheduler, is a hybrid constant LR policy and\n",
    "another LR scheduler.\n",
    "\n",
    "The constant policy is applied for the first 'shift' epochs,\n",
    "and thereafter the provided scheduler is applicat.\n",
    "\"\"\"\n",
    "    def __init__(self, optimizer, shift, scheduler, last_epoch=-1):       \n",
    "        self.shift = shift\n",
    "        self.scheduler = scheduler\n",
    "        super(ShiftedLR, self).__init__(optimizer, last_epoch)\n",
    "                \n",
    "    def get_lr(self): \n",
    "        if self.last_epoch < self.shift:\n",
    "            return self.base_lrs\n",
    "        return self.scheduler.get_lr()\n",
    "        \n",
    "    \n",
    "    def step(self, epoch=None):\n",
    "        super(ShiftedLR, self).step(epoch)\n",
    "        if self.last_epoch >= self.shift:\n",
    "            self.scheduler.step(self.last_epoch - self.shift)\n",
    " "
   ]
  },
  {
   "cell_type": "code",
   "execution_count": 109,
   "metadata": {},
   "outputs": [
    {
     "data": {
      "application/vnd.jupyter.widget-view+json": {
       "model_id": "a501cff0ca4241b9863ba0f88bcaad9c",
       "version_major": 2,
       "version_minor": 0
      },
      "text/html": [
       "<p>Failed to display Jupyter Widget of type <code>interactive</code>.</p>\n",
       "<p>\n",
       "  If you're reading this message in the Jupyter Notebook or JupyterLab Notebook, it may mean\n",
       "  that the widgets JavaScript is still loading. If this message persists, it\n",
       "  likely means that the widgets JavaScript library is either not installed or\n",
       "  not enabled. See the <a href=\"https://ipywidgets.readthedocs.io/en/stable/user_install.html\">Jupyter\n",
       "  Widgets Documentation</a> for setup instructions.\n",
       "</p>\n",
       "<p>\n",
       "  If you're reading this message in another frontend (for example, a static\n",
       "  rendering on GitHub or <a href=\"https://nbviewer.jupyter.org/\">NBViewer</a>),\n",
       "  it may mean that your frontend doesn't currently support widgets.\n",
       "</p>\n"
      ],
      "text/plain": [
       "interactive(children=(IntSlider(value=0, description='shift'), IntSlider(value=0, description='first_epoch'), IntSlider(value=50, description='last_epoch', max=200, min=1), IntSlider(value=3, description='step_size', max=30, min=1), FloatSlider(value=0.9, description='gamma', max=1.0), Text(value='0.001', description='lr'), IntSlider(value=1, description='T_max', max=10, min=1), Output()), _dom_classes=('widget-interact',))"
      ]
     },
     "metadata": {},
     "output_type": "display_data"
    }
   ],
   "source": [
    "# plt.rcParams[\"figure.figsize\"] = (10, 10)\n",
    "\n",
    "@interact(shift=(0,100),\n",
    "          first_epoch=(0, 100), \n",
    "          last_epoch=(1,200), \n",
    "          step_size=(1, 30, 1), \n",
    "          gamma=(0, 1, 0.1), \n",
    "          lr='0.001', \n",
    "          T_max=(1, 10))\n",
    "def draw_schedules(shift=0, first_epoch=0, last_epoch=50, step_size=3, gamma=0.9, lr=0.001, T_max=1):\n",
    "    lr = float(lr)\n",
    "    optimizer = torch.optim.SGD(model.parameters(), lr, momentum=0.9, weight_decay=0.0001)\n",
    "\n",
    "    schedulers = {}\n",
    "    schedulers['ExponentialLR'] = lr_scheduler.ExponentialLR(optimizer, gamma)\n",
    "    schedulers['StepLR'] = lr_scheduler.StepLR(optimizer, step_size, gamma)\n",
    "    schedulers['CosineAnnealingLR'] = lr_scheduler.CosineAnnealingLR(optimizer, T_max)\n",
    "    schedulers['ShiftedLR'] = ShiftedLR(optimizer, first_epoch+shift, \n",
    "                                        lr_scheduler.ExponentialLR(optimizer, gamma))\n",
    "    \n",
    "    # http://pytorch.org/docs/master/_modules/torch/optim/lr_scheduler.html\n",
    "    epochs = []\n",
    "    lr_values = {}\n",
    "    for name in schedulers.keys():\n",
    "        lr_values[name] = []\n",
    "    \n",
    "    \n",
    "    for epoch in range(first_epoch, last_epoch):\n",
    "        epochs.append(epoch)\n",
    "        for name, scheduler in schedulers.items():\n",
    "            scheduler.step(epoch)\n",
    "            _lr = scheduler.get_lr()\n",
    "            lr_values[name].append(_lr)    \n",
    "\n",
    "    for name in schedulers.keys():\n",
    "        plt.plot(epochs, lr_values[name])\n",
    "    plt.ylabel('LR')\n",
    "    plt.xlabel('epoch')\n",
    "    plt.title('Learning Rate Schedulers')\n",
    "    plt.show()\n"
   ]
  },
  {
   "cell_type": "code",
   "execution_count": null,
   "metadata": {},
   "outputs": [],
   "source": []
  },
  {
   "cell_type": "code",
   "execution_count": null,
   "metadata": {},
   "outputs": [],
   "source": []
  }
 ],
 "metadata": {
  "kernelspec": {
   "display_name": "Python 3",
   "language": "python",
   "name": "python3"
  },
  "language_info": {
   "codemirror_mode": {
    "name": "ipython",
    "version": 3
   },
   "file_extension": ".py",
   "mimetype": "text/x-python",
   "name": "python",
   "nbconvert_exporter": "python",
   "pygments_lexer": "ipython3",
   "version": "3.5.2"
  }
 },
 "nbformat": 4,
 "nbformat_minor": 2
}
